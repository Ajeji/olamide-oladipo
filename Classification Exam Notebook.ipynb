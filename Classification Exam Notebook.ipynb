{
 "cells": [
  {
   "cell_type": "markdown",
   "id": "5b96613f",
   "metadata": {},
   "source": [
    "# EDSA 2201 & 2207 classification hackathon\n",
    "© Explore Data Science Academy\n",
    "\n",
    "___\n",
    "\n",
    "\n",
    "\n",
    "---\n",
    "## Predict Overview: <u> South African Language Identification Hack 2022</u>\n",
    "\n",
    "#### <U>INTRODUCTION</U>\n",
    "\n",
    "Language is an indispensable tool that can be used to deepen democracy and also contribute to the social, cultural, intellectual, economic and political life of the South African society..\n",
    "\n",
    "\n",
    "---\n",
    "\n",
    "\n",
    "\n",
    "#### <u> PROBLEM STATEMENT </u>\n",
    "- South Africa is a multicultural society that is characterised by its rich linguistic diversity. <br>\n",
    "- The country is multilingual with 11 official languages, each of which is guaranteed equal status. Most South Africans are multilingual and able to speak at least two or more of the official languages <br>\n",
    "> With such a multilingual population, it is only obvious that their systems and devices also communicate in multi-languages.\n",
    "\n",
    "---\n",
    "\n",
    "#### <u> TASK AHEAD </u>\n",
    "In this challenge: <br>\n",
    "- I am required to take text which is in any of South Africa's 11 Official languages and<br>\n",
    "- Identify which language the text is in.<br>\n",
    "> The task of determining the natural language that a piece of text is written in.\n",
    "\n",
    "---\n",
    "\n",
    "<a id=\"cont\"></a>\n",
    "\n",
    "#### <u> PROCESS\n",
    "\n",
    "<a href=#one>1. Importing Packages</a>\n",
    "\n",
    "<a href=#two>2. Loading Data</a>\n",
    "\n",
    "<a href=#three>3. Exploratory Data Analysis(EDA)</a>\n",
    "    \n",
    "<a href=#four>4. Modelling</a>\n",
    "\n",
    "<a href=#five>5. Kaggle Sample Submission</a>\n",
    "\n",
    "<a href=#six>6. Conclusion</a>\n",
    "\n",
    "<a href=#seven>7. Refrences</a>\n",
    "\n",
    "---"
   ]
  },
  {
   "cell_type": "markdown",
   "id": "17632d13",
   "metadata": {},
   "source": [
    ">>First, I will import the necesssary packages to get me started.<br> \n",
    "I am so excited"
   ]
  },
  {
   "cell_type": "markdown",
   "id": "cb1578d7",
   "metadata": {},
   "source": [
    "---\n",
    "\n",
    "<a id=\"one\"></a>\n",
    "## 1. Importing Packages\n",
    "<a href=#cont>Back to Table of Contents</a>\n",
    "\n",
    "---"
   ]
  },
  {
   "cell_type": "code",
   "execution_count": 1,
   "id": "83b8a8cd",
   "metadata": {},
   "outputs": [],
   "source": [
    "# Libraries for importing and loading data\n",
    "import numpy as np\n",
    "import pandas as pd\n",
    "\n",
    "# Libraries for data preparation \n",
    "import re\n",
    "import string\n",
    "from sklearn import preprocessing\n",
    "from sklearn.model_selection import train_test_split\n",
    "from nltk.tokenize import TreebankWordTokenizer\n",
    "\n",
    "from sklearn.feature_extraction.text import TfidfVectorizer\n",
    "import nltk\n",
    "\n",
    "# Libraries for data visualizations\n",
    "import matplotlib.pyplot as plt\n",
    "import seaborn as sns\n",
    "%matplotlib inline\n",
    "\n",
    "# set plot style\n",
    "sns.set()\n",
    "\n",
    "#import matplotlib.style as style \n",
    "sns.set(font_scale=1.0)\n",
    "\n",
    "RANDOM_STATE = 42\n",
    "\n",
    "# Libraries for assessing model accuracy \n",
    "from sklearn.metrics import accuracy_score\n",
    "from sklearn import metrics\n",
    "from sklearn.metrics import classification_report, confusion_matrix, f1_score, precision_score, recall_score\n",
    "\n",
    "\n",
    "# Building classification models\n",
    "from sklearn.pipeline import Pipeline\n",
    "from sklearn.naive_bayes import MultinomialNB\n",
    "\n",
    "import warnings\n",
    "warnings.filterwarnings('ignore')"
   ]
  },
  {
   "cell_type": "markdown",
   "id": "05567e2b",
   "metadata": {},
   "source": [
    "---\n",
    "\n",
    "\n",
    "\n",
    "\n",
    "<a id=\"two\"></a>\n",
    "## 2. Loading Data\n",
    "<a href=#cont>Back to Table of Contents</a>\n",
    "\n",
    "\n",
    "\n",
    "---"
   ]
  },
  {
   "cell_type": "code",
   "execution_count": 2,
   "id": "45f9f7f5",
   "metadata": {
    "collapsed": true
   },
   "outputs": [
    {
     "data": {
      "text/html": [
       "<div>\n",
       "<style scoped>\n",
       "    .dataframe tbody tr th:only-of-type {\n",
       "        vertical-align: middle;\n",
       "    }\n",
       "\n",
       "    .dataframe tbody tr th {\n",
       "        vertical-align: top;\n",
       "    }\n",
       "\n",
       "    .dataframe thead th {\n",
       "        text-align: right;\n",
       "    }\n",
       "</style>\n",
       "<table border=\"1\" class=\"dataframe\">\n",
       "  <thead>\n",
       "    <tr style=\"text-align: right;\">\n",
       "      <th></th>\n",
       "      <th>lang_id</th>\n",
       "      <th>text</th>\n",
       "    </tr>\n",
       "  </thead>\n",
       "  <tbody>\n",
       "    <tr>\n",
       "      <th>0</th>\n",
       "      <td>xho</td>\n",
       "      <td>umgaqo-siseko wenza amalungiselelo kumaziko ax...</td>\n",
       "    </tr>\n",
       "    <tr>\n",
       "      <th>1</th>\n",
       "      <td>xho</td>\n",
       "      <td>i-dha iya kuba nobulumko bokubeka umsebenzi na...</td>\n",
       "    </tr>\n",
       "    <tr>\n",
       "      <th>2</th>\n",
       "      <td>eng</td>\n",
       "      <td>the province of kwazulu-natal department of tr...</td>\n",
       "    </tr>\n",
       "    <tr>\n",
       "      <th>3</th>\n",
       "      <td>nso</td>\n",
       "      <td>o netefatša gore o ba file dilo ka moka tše le...</td>\n",
       "    </tr>\n",
       "    <tr>\n",
       "      <th>4</th>\n",
       "      <td>ven</td>\n",
       "      <td>khomishini ya ndinganyiso ya mbeu yo ewa maana...</td>\n",
       "    </tr>\n",
       "  </tbody>\n",
       "</table>\n",
       "</div>"
      ],
      "text/plain": [
       "  lang_id                                               text\n",
       "0     xho  umgaqo-siseko wenza amalungiselelo kumaziko ax...\n",
       "1     xho  i-dha iya kuba nobulumko bokubeka umsebenzi na...\n",
       "2     eng  the province of kwazulu-natal department of tr...\n",
       "3     nso  o netefatša gore o ba file dilo ka moka tše le...\n",
       "4     ven  khomishini ya ndinganyiso ya mbeu yo ewa maana..."
      ]
     },
     "execution_count": 2,
     "metadata": {},
     "output_type": "execute_result"
    }
   ],
   "source": [
    "# Whats in this train data ?\n",
    "df_train = pd.read_csv('train_set.csv')\n",
    "df_train.head()"
   ]
  },
  {
   "cell_type": "markdown",
   "id": "23fab61a",
   "metadata": {},
   "source": [
    ">> The following are evident in the above output of the train dataset:<br>\n",
    ">>- There are two variables,__lang_id__ as the dependent(target) variable and __text__ the independent(predictive) variable<br>\n",
    ">>- Both variables are __categorical__ i.e.non-numerical datatypes."
   ]
  },
  {
   "cell_type": "code",
   "execution_count": 3,
   "id": "e9ea4055",
   "metadata": {
    "collapsed": true
   },
   "outputs": [
    {
     "data": {
      "text/html": [
       "<div>\n",
       "<style scoped>\n",
       "    .dataframe tbody tr th:only-of-type {\n",
       "        vertical-align: middle;\n",
       "    }\n",
       "\n",
       "    .dataframe tbody tr th {\n",
       "        vertical-align: top;\n",
       "    }\n",
       "\n",
       "    .dataframe thead th {\n",
       "        text-align: right;\n",
       "    }\n",
       "</style>\n",
       "<table border=\"1\" class=\"dataframe\">\n",
       "  <thead>\n",
       "    <tr style=\"text-align: right;\">\n",
       "      <th></th>\n",
       "      <th>index</th>\n",
       "      <th>text</th>\n",
       "    </tr>\n",
       "  </thead>\n",
       "  <tbody>\n",
       "    <tr>\n",
       "      <th>0</th>\n",
       "      <td>1</td>\n",
       "      <td>Mmasepala, fa maemo a a kgethegileng a letlele...</td>\n",
       "    </tr>\n",
       "    <tr>\n",
       "      <th>1</th>\n",
       "      <td>2</td>\n",
       "      <td>Uzakwaziswa ngokufaneleko nakungafuneka eminye...</td>\n",
       "    </tr>\n",
       "    <tr>\n",
       "      <th>2</th>\n",
       "      <td>3</td>\n",
       "      <td>Tshivhumbeo tshi fana na ngano dza vhathu.</td>\n",
       "    </tr>\n",
       "    <tr>\n",
       "      <th>3</th>\n",
       "      <td>4</td>\n",
       "      <td>Kube inja nelikati betingevakala kutsi titsini...</td>\n",
       "    </tr>\n",
       "    <tr>\n",
       "      <th>4</th>\n",
       "      <td>5</td>\n",
       "      <td>Winste op buitelandse valuta.</td>\n",
       "    </tr>\n",
       "  </tbody>\n",
       "</table>\n",
       "</div>"
      ],
      "text/plain": [
       "   index                                               text\n",
       "0      1  Mmasepala, fa maemo a a kgethegileng a letlele...\n",
       "1      2  Uzakwaziswa ngokufaneleko nakungafuneka eminye...\n",
       "2      3         Tshivhumbeo tshi fana na ngano dza vhathu.\n",
       "3      4  Kube inja nelikati betingevakala kutsi titsini...\n",
       "4      5                      Winste op buitelandse valuta."
      ]
     },
     "execution_count": 3,
     "metadata": {},
     "output_type": "execute_result"
    }
   ],
   "source": [
    "# What is in this test data ?\n",
    "df_test = pd.read_csv('test_set.csv')\n",
    "df_test.head()"
   ]
  },
  {
   "cell_type": "markdown",
   "id": "40316b04",
   "metadata": {},
   "source": [
    ">>It is evident in the above output of the test dataset that the __index__ column is __Numerical__ while the __text__ coumn is __categorical__ .The __text__ column is the __Predictive__ variable"
   ]
  },
  {
   "cell_type": "code",
   "execution_count": 4,
   "id": "fa54fda0",
   "metadata": {
    "collapsed": true
   },
   "outputs": [
    {
     "data": {
      "text/plain": [
       "(33000, 2)"
      ]
     },
     "execution_count": 4,
     "metadata": {},
     "output_type": "execute_result"
    }
   ],
   "source": [
    "# (.shape) will help to determine the number of rows and columns contained in the train dataset\n",
    "df_train.shape"
   ]
  },
  {
   "cell_type": "code",
   "execution_count": 5,
   "id": "522db30d",
   "metadata": {
    "collapsed": true
   },
   "outputs": [
    {
     "data": {
      "text/plain": [
       "(5682, 2)"
      ]
     },
     "execution_count": 5,
     "metadata": {},
     "output_type": "execute_result"
    }
   ],
   "source": [
    "# (.shape) will help to determine the number of rows and columns contained in the test dataset\n",
    "df_test.shape"
   ]
  },
  {
   "cell_type": "markdown",
   "id": "84fe5feb",
   "metadata": {},
   "source": [
    ">> The shape command shows that we have **33000** rows and **2** features in the **train** dataset\n",
    "and **5682** rows and **2** columns in the **test** dataset."
   ]
  },
  {
   "cell_type": "markdown",
   "id": "3a50f147",
   "metadata": {},
   "source": [
    "The __info()__ function will help to know what all columns contain, of what types and if they contain any value or not."
   ]
  },
  {
   "cell_type": "code",
   "execution_count": 6,
   "id": "e5e32b59",
   "metadata": {
    "collapsed": true
   },
   "outputs": [
    {
     "name": "stdout",
     "output_type": "stream",
     "text": [
      "<class 'pandas.core.frame.DataFrame'>\n",
      "RangeIndex: 33000 entries, 0 to 32999\n",
      "Data columns (total 2 columns):\n",
      " #   Column   Non-Null Count  Dtype \n",
      "---  ------   --------------  ----- \n",
      " 0   lang_id  33000 non-null  object\n",
      " 1   text     33000 non-null  object\n",
      "dtypes: object(2)\n",
      "memory usage: 515.8+ KB\n"
     ]
    }
   ],
   "source": [
    "# Check data types for all columns\n",
    "df_train.info()"
   ]
  },
  {
   "cell_type": "code",
   "execution_count": 7,
   "id": "1de41734",
   "metadata": {
    "collapsed": true
   },
   "outputs": [
    {
     "name": "stdout",
     "output_type": "stream",
     "text": [
      "<class 'pandas.core.frame.DataFrame'>\n",
      "RangeIndex: 5682 entries, 0 to 5681\n",
      "Data columns (total 2 columns):\n",
      " #   Column  Non-Null Count  Dtype \n",
      "---  ------  --------------  ----- \n",
      " 0   index   5682 non-null   int64 \n",
      " 1   text    5682 non-null   object\n",
      "dtypes: int64(1), object(1)\n",
      "memory usage: 88.9+ KB\n"
     ]
    }
   ],
   "source": [
    "df_test.info()"
   ]
  },
  {
   "cell_type": "markdown",
   "id": "15c0a9f7",
   "metadata": {},
   "source": [
    ">> By observing the above data, we can conclude: <br>\n",
    ">> Train Data contains an only __Object__ datatypes <br>\n",
    ">> Test Data contains both __Object__ and __integer__ datatypes <br>\n",
    ">> All the columns are non-null (no-empty or missing value).\n"
   ]
  },
  {
   "cell_type": "markdown",
   "id": "f58e8e52",
   "metadata": {},
   "source": [
    "---\n",
    "\n",
    "\n",
    "\n",
    "<a id=\"three\"></a>\n",
    "## 3. Exploratory Data Analysis(EDA) / data cleaning\n",
    "<a class=\"anchor\" id=\"1.1\"></a>\n",
    "<a href=#cont>Back to Table of Contents</a>\n",
    "\n",
    "---"
   ]
  },
  {
   "cell_type": "markdown",
   "id": "9057d978",
   "metadata": {},
   "source": [
    "In case of text data like this one, there cant be any meaningful EDA before modifying or cleaning data. __Data cleaning__ helps to maximize results. For this section,both <br>\n",
    "- __lang_id__ and <br>\n",
    "- __text__ column will be visited."
   ]
  },
  {
   "cell_type": "markdown",
   "id": "746963aa",
   "metadata": {},
   "source": [
    " ### 3.1<u> Analysis of the (lang_id) variable</u>"
   ]
  },
  {
   "cell_type": "markdown",
   "id": "2bea961c",
   "metadata": {},
   "source": [
    "#### (A). Language IDs<br>\n",
    "> - __afr__  -   Afrikaans <br>\n",
    "> - __eng__  -  English   <br>\n",
    "> - __nbl__  -  isiNdebele<br>\n",
    "> - __nso__  -  Sepedi    <br>\n",
    "> - __sot__  -  Sesotho   <br>\n",
    "> - __ssw__  -  siSwati   <br>\n",
    "> - __tsn__  -  Setswana  <br>\n",
    "> - __tso__  -  Xitsonga  <br>\n",
    "> - __ven__  -  Tshivenda <br>\n",
    "> - __xho__  -  isiXhosa  <br>\n",
    "> - __zul__  -  isiZulu<br>\n",
    "\n",
    "- The above is a display of the __lang_id__ column and their corresponding languages."
   ]
  },
  {
   "cell_type": "markdown",
   "id": "d7d0ac50",
   "metadata": {},
   "source": [
    "#### (B).  Count of Language in the dataset"
   ]
  },
  {
   "cell_type": "code",
   "execution_count": 8,
   "id": "f8b92ac0",
   "metadata": {
    "collapsed": true
   },
   "outputs": [
    {
     "data": {
      "text/plain": [
       "xho    3000\n",
       "eng    3000\n",
       "nso    3000\n",
       "ven    3000\n",
       "tsn    3000\n",
       "nbl    3000\n",
       "zul    3000\n",
       "ssw    3000\n",
       "tso    3000\n",
       "sot    3000\n",
       "afr    3000\n",
       "Name: lang_id, dtype: int64"
      ]
     },
     "execution_count": 8,
     "metadata": {},
     "output_type": "execute_result"
    }
   ],
   "source": [
    "df_train['lang_id'].value_counts()"
   ]
  },
  {
   "cell_type": "markdown",
   "id": "ca74ac32",
   "metadata": {},
   "source": [
    "#### (C). Visualize"
   ]
  },
  {
   "cell_type": "code",
   "execution_count": 9,
   "id": "6eeed0cd",
   "metadata": {},
   "outputs": [
    {
     "data": {
      "text/plain": [
       "<AxesSubplot:xlabel='lang_id', ylabel='count'>"
      ]
     },
     "execution_count": 9,
     "metadata": {},
     "output_type": "execute_result"
    },
    {
     "data": {
      "image/png": "[encoded data removed]",
      "text/plain": [
       "<Figure size 360x360 with 1 Axes>"
      ]
     },
     "metadata": {},
     "output_type": "display_data"
    }
   ],
   "source": [
    "plt.figure(figsize=(5,5))\n",
    "sns.countplot(df_train['lang_id'])"
   ]
  },
  {
   "cell_type": "markdown",
   "id": "b55b43b1",
   "metadata": {},
   "source": [
    "A **countplot** can be thought of as a histogram across a categorical instead of quantitative variable and gives the result of a barplot.<br>\n",
    "> - A countplot of the __lang_id__ feature is generated, where each bar represents the unique languages from the dataset and the height represents how many times that each language occurred, the chart above shows that<br>\n",
    "> - There are __3000__ sentences of each language in the dataset\n",
    "\n"
   ]
  },
  {
   "cell_type": "markdown",
   "id": "778f33a4",
   "metadata": {},
   "source": [
    "#### (D).  Replace unique IDs with languages."
   ]
  },
  {
   "cell_type": "code",
   "execution_count": 10,
   "id": "eb62cdba",
   "metadata": {
    "collapsed": true
   },
   "outputs": [
    {
     "data": {
      "text/html": [
       "<div>\n",
       "<style scoped>\n",
       "    .dataframe tbody tr th:only-of-type {\n",
       "        vertical-align: middle;\n",
       "    }\n",
       "\n",
       "    .dataframe tbody tr th {\n",
       "        vertical-align: top;\n",
       "    }\n",
       "\n",
       "    .dataframe thead th {\n",
       "        text-align: right;\n",
       "    }\n",
       "</style>\n",
       "<table border=\"1\" class=\"dataframe\">\n",
       "  <thead>\n",
       "    <tr style=\"text-align: right;\">\n",
       "      <th></th>\n",
       "      <th>lang_id</th>\n",
       "      <th>text</th>\n",
       "    </tr>\n",
       "  </thead>\n",
       "  <tbody>\n",
       "    <tr>\n",
       "      <th>0</th>\n",
       "      <td>isiXhosa</td>\n",
       "      <td>umgaqo-siseko wenza amalungiselelo kumaziko ax...</td>\n",
       "    </tr>\n",
       "    <tr>\n",
       "      <th>1</th>\n",
       "      <td>isiXhosa</td>\n",
       "      <td>i-dha iya kuba nobulumko bokubeka umsebenzi na...</td>\n",
       "    </tr>\n",
       "    <tr>\n",
       "      <th>2</th>\n",
       "      <td>English</td>\n",
       "      <td>the province of kwazulu-natal department of tr...</td>\n",
       "    </tr>\n",
       "    <tr>\n",
       "      <th>3</th>\n",
       "      <td>Sepedi</td>\n",
       "      <td>o netefatša gore o ba file dilo ka moka tše le...</td>\n",
       "    </tr>\n",
       "    <tr>\n",
       "      <th>4</th>\n",
       "      <td>Tshivenda</td>\n",
       "      <td>khomishini ya ndinganyiso ya mbeu yo ewa maana...</td>\n",
       "    </tr>\n",
       "  </tbody>\n",
       "</table>\n",
       "</div>"
      ],
      "text/plain": [
       "     lang_id                                               text\n",
       "0   isiXhosa  umgaqo-siseko wenza amalungiselelo kumaziko ax...\n",
       "1   isiXhosa  i-dha iya kuba nobulumko bokubeka umsebenzi na...\n",
       "2    English  the province of kwazulu-natal department of tr...\n",
       "3     Sepedi  o netefatša gore o ba file dilo ka moka tše le...\n",
       "4  Tshivenda  khomishini ya ndinganyiso ya mbeu yo ewa maana..."
      ]
     },
     "execution_count": 10,
     "metadata": {},
     "output_type": "execute_result"
    }
   ],
   "source": [
    "def update(df):\n",
    "    df_copy = df.copy()\n",
    "    word_lang =[]\n",
    "    for i in df_copy['lang_id'] :\n",
    "        if i == 'afr' :\n",
    "            word_lang.append('Afrikaans')  \n",
    "        elif i == 'eng' :\n",
    "            word_lang.append('English')\n",
    "        elif i == 'nbl' :\n",
    "            word_lang.append('isiNdebele')\n",
    "        elif i == 'nso' :\n",
    "            word_lang.append('Sepedi')\n",
    "        elif i == 'sot' :\n",
    "            word_lang.append('Sesotho')\n",
    "        elif i == 'ssw' :\n",
    "            word_lang.append('siSwati')\n",
    "        elif i == 'tsn' :\n",
    "            word_lang.append('Setswana')\n",
    "        elif i == 'tso' :\n",
    "            word_lang.append('Xitsonga')\n",
    "        elif i == 'ven' :\n",
    "            word_lang.append('Tshivenda')\n",
    "        elif i == 'xho' :\n",
    "            word_lang.append('isiXhosa')\n",
    "        else :\n",
    "            word_lang.append('isiZulu')\n",
    "    df_copy['lang_id']= word_lang\n",
    "    return df_copy\n",
    "\n",
    "df_lang = update(df_train)\n",
    "df_lang.head()"
   ]
  },
  {
   "cell_type": "markdown",
   "id": "46861ae5",
   "metadata": {},
   "source": [
    " ### 3.2   <u> Analysis of the (TEXT) variable</u>"
   ]
  },
  {
   "cell_type": "markdown",
   "id": "ddd88b2e",
   "metadata": {},
   "source": [
    " -  __Text cleaning__ helps to maximize results, it’s important to distill text to the most important root words in the corpus and clean out unwanted noise. <br> "
   ]
  },
  {
   "cell_type": "markdown",
   "id": "c066842e",
   "metadata": {},
   "source": [
    "\n",
    ">> Much cleaniness is not required for this project because Praekelt improved the training set through additional cleaning.It was recorded that the text is in various states of cleanliness. Nevertheless, some NLP techniques will be necessary to clean up the data.For this section,the text would be __tokenized__, and the __\\n__ symbols would be removed.\n"
   ]
  },
  {
   "cell_type": "code",
   "execution_count": 12,
   "id": "951f2d3a",
   "metadata": {
    "collapsed": true
   },
   "outputs": [
    {
     "data": {
      "text/plain": [
       "'umgaqo-siseko wenza amalungiselelo kumaziko axhasa ulawulo lwesininzi kunye nokuthath inxaxheba kwabafazi ezi ziquka phakathi kwezinye zazo ikomishoni yokulingana ngokwesini ikomishoni yamalungelo oluntu lomzantsi afrikai-dha iya kuba nobulumko bokubeka umsebenzi naphi na kwisebe ngokusekwe kwiimfuno zokusebenza zalo emva kokubonana nomsebenzi kunye okanye imanyano yakhe ukuba ulandulo lomntu onjalo alufanelekanga i-dha mayibize uncedo olufanelekileyo elungelweni layothe province of kwazulu-nata'"
      ]
     },
     "execution_count": 12,
     "metadata": {},
     "output_type": "execute_result"
    }
   ],
   "source": [
    "# Display the text to be cleaned\n",
    "''.join(df_train['text'].tolist())[:500]"
   ]
  },
  {
   "cell_type": "code",
   "execution_count": 13,
   "id": "7b47986b",
   "metadata": {},
   "outputs": [],
   "source": [
    "def language_cleaner(text):\n",
    "    \n",
    "    text = re.sub('\\n',' ',text)# replace \\n with space\n",
    "    \n",
    "    tokeniser = TreebankWordTokenizer()\n",
    "    text = tokeniser.tokenize(text)# convert to tokens\n",
    "    \n",
    "    text =[word for word in text if len(word)>=2]\n",
    "    text =' '.join(text) #convert the tokens back to a string\n",
    "    return text"
   ]
  },
  {
   "cell_type": "markdown",
   "id": "89f37e8a",
   "metadata": {},
   "source": [
    "- Apply the above code to the __text__ column"
   ]
  },
  {
   "cell_type": "code",
   "execution_count": 14,
   "id": "667465e4",
   "metadata": {
    "collapsed": true
   },
   "outputs": [
    {
     "data": {
      "text/plain": [
       "0        umgaqo-siseko wenza amalungiselelo kumaziko ax...\n",
       "1        i-dha iya kuba nobulumko bokubeka umsebenzi na...\n",
       "2        the province of kwazulu-natal department of tr...\n",
       "3        netefatša gore ba file dilo ka moka tše le dum...\n",
       "4        khomishini ya ndinganyiso ya mbeu yo ewa maana...\n",
       "                               ...                        \n",
       "32995    popo ya dipolateforomo tse ke go tlisa boetele...\n",
       "32996    modise mosadi na ntse sa utlwe hore thabang ra...\n",
       "32997    closing date for the submission of completed t...\n",
       "32998    nawuphina umntu ofunyenwe enetyala phantsi kwa...\n",
       "32999    mafapha mang le ona lokela ho etsa ditlaleho t...\n",
       "Name: text, Length: 33000, dtype: object"
      ]
     },
     "execution_count": 14,
     "metadata": {},
     "output_type": "execute_result"
    }
   ],
   "source": [
    "df_train['text'] = df_train['text'].apply(language_cleaner)\n",
    "df_train['text']"
   ]
  },
  {
   "cell_type": "code",
   "execution_count": 15,
   "id": "df04c4ec",
   "metadata": {
    "collapsed": true
   },
   "outputs": [
    {
     "data": {
      "text/plain": [
       "'umgaqo-siseko wenza amalungiselelo kumaziko axhasa ulawulo lwesininzi kunye nokuthath inxaxheba kwabafazi ezi ziquka phakathi kwezinye zazo ikomishoni yokulingana ngokwesini ikomishoni yamalungelo oluntu lomzantsi afrikai-dha iya kuba nobulumko bokubeka umsebenzi naphi na kwisebe ngokusekwe kwiimfuno zokusebenza zalo emva kokubonana nomsebenzi kunye okanye imanyano yakhe ukuba ulandulo lomntu onjalo alufanelekanga i-dha mayibize uncedo olufanelekileyo elungelweni layothe province of kwazulu-nata'"
      ]
     },
     "execution_count": 15,
     "metadata": {},
     "output_type": "execute_result"
    }
   ],
   "source": [
    "# Display the cleaned text\n",
    "''.join(df_train['text'].tolist())[:500]"
   ]
  },
  {
   "attachments": {
    "Images%20By%20Marina%20Lambir%20On%20Smilies.gif": {
     "image/gif": "[encoded data removed]"
    }
   },
   "cell_type": "markdown",
   "id": "3a845d27",
   "metadata": {},
   "source": [
    "![Images%20By%20Marina%20Lambir%20On%20Smilies.gif](attachment:Images%20By%20Marina%20Lambir%20On%20Smilies.gif)\n",
    " >>   Great, text looks clean. Now, some feature engineering and modelling can be done.\n",
    "                                                  "
   ]
  },
  {
   "cell_type": "markdown",
   "id": "2b84924f",
   "metadata": {},
   "source": [
    "### 3.3 Separating features and labels"
   ]
  },
  {
   "cell_type": "code",
   "execution_count": 16,
   "id": "bfd46f9e",
   "metadata": {},
   "outputs": [],
   "source": [
    "# Seperate features and tagret variables\n",
    "X = df_train['text']\n",
    "y = df_train['lang_id']"
   ]
  },
  {
   "cell_type": "markdown",
   "id": "0cf0982b",
   "metadata": {},
   "source": [
    ">> The Features(independent)variables are used for predictions while the target are the classes to be predicted. The above commands  are used to separate them."
   ]
  },
  {
   "cell_type": "markdown",
   "id": "f92204dd",
   "metadata": {},
   "source": [
    "### 3.3 Train - Validation split"
   ]
  },
  {
   "cell_type": "code",
   "execution_count": 17,
   "id": "63d311f8",
   "metadata": {},
   "outputs": [],
   "source": [
    "# Split the train data to create validation dataset\n",
    "X_train, X_test, y_train, y_test = train_test_split(X, y, test_size=0.2, random_state=42, stratify=y)"
   ]
  },
  {
   "cell_type": "markdown",
   "id": "0ac656e2",
   "metadata": {},
   "source": [
    ">> Just before a model is built,the train dataset will be splited into a new\n",
    "___train__ set and a\n",
    "__validation__ \n",
    "set called __X_test__ and __y_test__.The validation set, as the name implies, will validate the accuracy of the model that will be built."
   ]
  },
  {
   "cell_type": "code",
   "execution_count": 18,
   "id": "4756c660",
   "metadata": {
    "collapsed": true
   },
   "outputs": [
    {
     "data": {
      "text/plain": [
       "22148    ku hlaseriwa hi dzolonga ka vahlampfa lava tsh...\n",
       "3034     maasesele ya xidayiginosisi ya tirhisiwa ku ku...\n",
       "13406    any employee in electronic security function i...\n",
       "10826    ngalokho esikutholako emakorweni woke womphaka...\n",
       "9149     ukuxegiselwa kuyonqamuka uma ofake isicelo esh...\n",
       "                               ...                        \n",
       "32432    mukhomi wa wa mfanelo wo lavisisa swicelwa mfa...\n",
       "21425    maikemisetso khomishene ke ho matlafatsa molao...\n",
       "3679     njengombana abafazi bebangatjhejwa phambilini ...\n",
       "12963    badiri ba ne ba bona tshedimosetso le katiso g...\n",
       "12520    ho bohlokwa ho ela hloko hore tshebediso ena y...\n",
       "Name: text, Length: 26400, dtype: object"
      ]
     },
     "execution_count": 18,
     "metadata": {},
     "output_type": "execute_result"
    }
   ],
   "source": [
    "X_train"
   ]
  },
  {
   "cell_type": "markdown",
   "id": "96b54eb0",
   "metadata": {},
   "source": [
    "___\n",
    "\n",
    "<a id=\"four\"></a>\n",
    "## 4. Modelling\n",
    "<a class=\"anchor\" id=\"1.1\"></a>\n",
    "<a href=#cont>Back to Table of Contents</a>\n",
    "\n",
    "\n",
    "---\n",
    "\n",
    ">> __Pipelines__ consist of 2 steps, ___vectorization__(feature extraction) and __model fitting__. Machines, unlike humans, cannot understand the raw text.Therefore, we need to convert our text into numbers. The __TFIDF vectorizer__ assigns word frequency scores that try to highlight frequent words in a document. Another advantage of this method is that the resulting vectors are already scaled.<br>\n",
    "- Here comes the crucial part of the project"
   ]
  },
  {
   "cell_type": "markdown",
   "id": "b3ed604b",
   "metadata": {},
   "source": [
    "\n",
    "### 4.1  Model building \n",
    "\n",
    "\n",
    "___"
   ]
  },
  {
   "cell_type": "markdown",
   "id": "be65e523",
   "metadata": {},
   "source": [
    "- __Naive bayes__ classifier will be considered for this project"
   ]
  },
  {
   "cell_type": "code",
   "execution_count": 19,
   "id": "c7a887ac",
   "metadata": {},
   "outputs": [],
   "source": [
    "# Naive bayes\n",
    "nb = Pipeline([('tfidf', TfidfVectorizer(max_features=5000)),\n",
    "               ('clf', MultinomialNB())\n",
    "              ])"
   ]
  },
  {
   "cell_type": "markdown",
   "id": "92ac557d",
   "metadata": {},
   "source": [
    "   ### 4.2  Model training and predictions\n",
    "\n",
    "\n",
    "\n",
    "---"
   ]
  },
  {
   "cell_type": "code",
   "execution_count": 20,
   "id": "5a4a54d1",
   "metadata": {},
   "outputs": [],
   "source": [
    "# train and predict Naive bayes \n",
    "nb.fit(X_train, y_train)\n",
    "y_pred_nb= nb.predict(X_test)\n"
   ]
  },
  {
   "cell_type": "markdown",
   "id": "38b2b7c9",
   "metadata": {},
   "source": [
    "### 4.3 Model Evaluation\n",
    "\n",
    "\n",
    "\n",
    "\n",
    "---"
   ]
  },
  {
   "cell_type": "markdown",
   "id": "15f05593",
   "metadata": {},
   "source": [
    "> #### (A). Confusion Matrix\n",
    ">> __Confusion matrix__ is a __data visualization__ resource.It helps to describe the performance of a classification model (or “classifier”) on a set of test data for which the true values are known."
   ]
  },
  {
   "cell_type": "code",
   "execution_count": 39,
   "id": "38c028d7",
   "metadata": {
    "collapsed": true
   },
   "outputs": [
    {
     "name": "stdout",
     "output_type": "stream",
     "text": [
      "[[600   0   0   0   0   0   0   0   0   0   0]\n",
      " [  0 600   0   0   0   0   0   0   0   0   0]\n",
      " [  0   1 593   0   0   0   0   0   1   0   5]\n",
      " [  0   0   0 599   0   0   1   0   0   0   0]\n",
      " [  0   0   0   0 600   0   0   0   0   0   0]\n",
      " [  0   0   0   0   0 600   0   0   0   0   0]\n",
      " [  0   0   0   0   0   0 600   0   0   0   0]\n",
      " [  0   0   0   0   0   0   0 600   0   0   0]\n",
      " [  0   0   0   0   0   0   0   0 600   0   0]\n",
      " [  0   1   2   0   0   0   0   0   0 591   6]\n",
      " [  0   2   2   0   0   3   0   0   0   4 589]]\n"
     ]
    }
   ],
   "source": [
    "print(confusion_matrix(y_test, y_pred_nb))"
   ]
  },
  {
   "cell_type": "markdown",
   "id": "9e479a89",
   "metadata": {},
   "source": [
    ">#### (B) Accuracy Score\n",
    "\n",
    ">> The more accurate the model, it will give the precise results in various scenarios making the model more meaningful and relevant when used in real life."
   ]
  },
  {
   "cell_type": "code",
   "execution_count": 23,
   "id": "1a1d71ed",
   "metadata": {
    "collapsed": true
   },
   "outputs": [
    {
     "name": "stdout",
     "output_type": "stream",
     "text": [
      "0.9957575757575757\n"
     ]
    }
   ],
   "source": [
    "print(accuracy_score(y_test,y_pred_nb))"
   ]
  },
  {
   "cell_type": "markdown",
   "id": "a21a5cca",
   "metadata": {},
   "source": [
    "> #### (C) Classification Report\n",
    "\n",
    ">> A classification report is a performance evaluation metric in machine learning. It is used to show the precision, recall, F1 Score, and support of your trained classification model. "
   ]
  },
  {
   "cell_type": "code",
   "execution_count": 24,
   "id": "fcff7fa0",
   "metadata": {
    "collapsed": true
   },
   "outputs": [
    {
     "name": "stdout",
     "output_type": "stream",
     "text": [
      "              precision    recall  f1-score   support\n",
      "\n",
      "         afr       1.00      1.00      1.00       600\n",
      "         eng       0.99      1.00      1.00       600\n",
      "         nbl       0.99      0.99      0.99       600\n",
      "         nso       1.00      1.00      1.00       600\n",
      "         sot       1.00      1.00      1.00       600\n",
      "         ssw       1.00      1.00      1.00       600\n",
      "         tsn       1.00      1.00      1.00       600\n",
      "         tso       1.00      1.00      1.00       600\n",
      "         ven       1.00      1.00      1.00       600\n",
      "         xho       0.99      0.98      0.99       600\n",
      "         zul       0.98      0.98      0.98       600\n",
      "\n",
      "    accuracy                           1.00      6600\n",
      "   macro avg       1.00      1.00      1.00      6600\n",
      "weighted avg       1.00      1.00      1.00      6600\n",
      "\n"
     ]
    }
   ],
   "source": [
    "print(classification_report(y_test,y_pred_nb))"
   ]
  },
  {
   "cell_type": "markdown",
   "id": "5ab59fcf",
   "metadata": {},
   "source": [
    "The above output displays a very high __F1_score__ when tested on the validation set. The score of __1.00__ is the highest a model can get. Its a good one"
   ]
  },
  {
   "cell_type": "markdown",
   "id": "437a60bf",
   "metadata": {},
   "source": [
    "### 4.4 Test dataset\n",
    "\n",
    "---\n",
    "Clean the unseen data"
   ]
  },
  {
   "cell_type": "code",
   "execution_count": 25,
   "id": "608e25d1",
   "metadata": {
    "collapsed": true
   },
   "outputs": [
    {
     "data": {
      "text/plain": [
       "0       Mmasepala fa maemo kgethegileng letlelela kgat...\n",
       "1       Uzakwaziswa ngokufaneleko nakungafuneka eminye...\n",
       "2               Tshivhumbeo tshi fana na ngano dza vhathu\n",
       "3       Kube inja nelikati betingevakala kutsi titsini...\n",
       "4                            Winste op buitelandse valuta\n",
       "                              ...                        \n",
       "5677                      You mark your ballot in private\n",
       "5678    Ge ka kgetha ka bowena go se šomiše Mofani ka ...\n",
       "5679    Ka kopo etsa kgetho ya hao ka hloko hobane ha ...\n",
       "5680    TB ke bokudi ba PMB mme Morero tla lefella tlh...\n",
       "5681                 Vakatjhela iwebhusayidi yethu ku-www\n",
       "Name: text, Length: 5682, dtype: object"
      ]
     },
     "execution_count": 25,
     "metadata": {},
     "output_type": "execute_result"
    }
   ],
   "source": [
    "df_test['text'] = df_test['text'].apply(language_cleaner)\n",
    "df_test['text']"
   ]
  },
  {
   "cell_type": "markdown",
   "id": "a19759cc",
   "metadata": {},
   "source": [
    "<a id=\"five\"></a>\n",
    "## 5. Kaggle Sample Submission\n",
    "<a class=\"anchor\" id=\"1.1\"></a>\n",
    "<a href=#cont>Back to Table of Contents</a>\n"
   ]
  },
  {
   "cell_type": "code",
   "execution_count": 37,
   "id": "8bd7d181",
   "metadata": {
    "collapsed": true
   },
   "outputs": [
    {
     "data": {
      "text/html": [
       "<div>\n",
       "<style scoped>\n",
       "    .dataframe tbody tr th:only-of-type {\n",
       "        vertical-align: middle;\n",
       "    }\n",
       "\n",
       "    .dataframe tbody tr th {\n",
       "        vertical-align: top;\n",
       "    }\n",
       "\n",
       "    .dataframe thead th {\n",
       "        text-align: right;\n",
       "    }\n",
       "</style>\n",
       "<table border=\"1\" class=\"dataframe\">\n",
       "  <thead>\n",
       "    <tr style=\"text-align: right;\">\n",
       "      <th></th>\n",
       "      <th>index</th>\n",
       "      <th>lang_id</th>\n",
       "    </tr>\n",
       "  </thead>\n",
       "  <tbody>\n",
       "    <tr>\n",
       "      <th>0</th>\n",
       "      <td>1</td>\n",
       "      <td>tsn</td>\n",
       "    </tr>\n",
       "    <tr>\n",
       "      <th>1</th>\n",
       "      <td>2</td>\n",
       "      <td>nbl</td>\n",
       "    </tr>\n",
       "    <tr>\n",
       "      <th>2</th>\n",
       "      <td>3</td>\n",
       "      <td>ven</td>\n",
       "    </tr>\n",
       "    <tr>\n",
       "      <th>3</th>\n",
       "      <td>4</td>\n",
       "      <td>ssw</td>\n",
       "    </tr>\n",
       "    <tr>\n",
       "      <th>4</th>\n",
       "      <td>5</td>\n",
       "      <td>afr</td>\n",
       "    </tr>\n",
       "    <tr>\n",
       "      <th>...</th>\n",
       "      <td>...</td>\n",
       "      <td>...</td>\n",
       "    </tr>\n",
       "    <tr>\n",
       "      <th>5677</th>\n",
       "      <td>5678</td>\n",
       "      <td>eng</td>\n",
       "    </tr>\n",
       "    <tr>\n",
       "      <th>5678</th>\n",
       "      <td>5679</td>\n",
       "      <td>nso</td>\n",
       "    </tr>\n",
       "    <tr>\n",
       "      <th>5679</th>\n",
       "      <td>5680</td>\n",
       "      <td>sot</td>\n",
       "    </tr>\n",
       "    <tr>\n",
       "      <th>5680</th>\n",
       "      <td>5681</td>\n",
       "      <td>sot</td>\n",
       "    </tr>\n",
       "    <tr>\n",
       "      <th>5681</th>\n",
       "      <td>5682</td>\n",
       "      <td>nbl</td>\n",
       "    </tr>\n",
       "  </tbody>\n",
       "</table>\n",
       "<p>5682 rows × 2 columns</p>\n",
       "</div>"
      ],
      "text/plain": [
       "      index lang_id\n",
       "0         1     tsn\n",
       "1         2     nbl\n",
       "2         3     ven\n",
       "3         4     ssw\n",
       "4         5     afr\n",
       "...     ...     ...\n",
       "5677   5678     eng\n",
       "5678   5679     nso\n",
       "5679   5680     sot\n",
       "5680   5681     sot\n",
       "5681   5682     nbl\n",
       "\n",
       "[5682 rows x 2 columns]"
      ]
     },
     "execution_count": 37,
     "metadata": {},
     "output_type": "execute_result"
    }
   ],
   "source": [
    "def gen_kaggle_csv(model, df):\n",
    "    \n",
    "    #load the test data to a varable \"X_unseen\"\n",
    "    X_test = df['text']\n",
    "    \n",
    "    #Make a prediction on the test data with the trained model\n",
    "    mypreds = model.predict(X_test)\n",
    "    \n",
    "    #Reset the index of the test data\n",
    "    df.reset_index(inplace=True)\n",
    "    \n",
    "    #Make a copy of the tweet id \n",
    "    index = df['index']\n",
    "    \n",
    "    #Convert the tweet_id and the prediction \n",
    "    sample_submission = pd.DataFrame({'index' : index, \n",
    "                                  'lang_id': mypreds})\n",
    "    \n",
    "    #convert file to csv\n",
    "    sample_submission.to_csv('kaggle.csv', index=False)\n",
    "\n",
    "    return sample_submission\n",
    "gen_kaggle_csv(nb, df_test)"
   ]
  },
  {
   "cell_type": "markdown",
   "id": "94fa29ca",
   "metadata": {},
   "source": [
    "### (5.1) Save Trained model\n",
    ">>It is important to save and reload this trained machine learning model, it can be used on any kind of object."
   ]
  },
  {
   "cell_type": "code",
   "execution_count": 38,
   "id": "197dfd81",
   "metadata": {
    "collapsed": true
   },
   "outputs": [
    {
     "data": {
      "text/plain": [
       "'nb_model.pkl'"
      ]
     },
     "execution_count": 38,
     "metadata": {},
     "output_type": "execute_result"
    }
   ],
   "source": [
    "def save_pickle_file(model, file_name):\n",
    "    # import the pickle module\n",
    "    import pickle\n",
    "    \n",
    "    #asign a path to the file_name \n",
    "    model_save_path = file_name \n",
    "    \n",
    "    #save file to thespecified path\n",
    "    with open(model_save_path,'wb') as file: \n",
    "        pickle.dump(model,file)\n",
    "    \n",
    "    return  model_save_path\n",
    "\n",
    "save_pickle_file(nb, \"nb_model.pkl\")"
   ]
  },
  {
   "cell_type": "markdown",
   "id": "8e7eff79",
   "metadata": {},
   "source": [
    "## 6. Conclusion"
   ]
  },
  {
   "cell_type": "markdown",
   "id": "aee50364",
   "metadata": {},
   "source": [
    ">> This project covers techniques for cleaning text data and extracting features to use with machine learning models. It also demonstrated how TfidVectorizer can be used to clean text data and extract features, transforming the text data into a matrix of numbers that can be fed into a machine learning model.Results of the accuracy was made to Kaggle and saved as well for future use."
   ]
  },
  {
   "cell_type": "markdown",
   "id": "01366212",
   "metadata": {},
   "source": [
    "## 7. Refrences"
   ]
  },
  {
   "cell_type": "markdown",
   "id": "a11f7375",
   "metadata": {},
   "source": [
    "- NLP:https://www.youtube.com/watch?v=P8M9KFRBWGg&t=47s\n",
    "- NLP: https://www.youtube.com/watch?v=wcfKmwpXba4&t=238s\n",
    "- ATHENA: https://athena.explore-datascience.net/"
   ]
  }
 ],
 "metadata": {
  "kernelspec": {
   "display_name": "Python 3 (ipykernel)",
   "language": "python",
   "name": "python3"
  },
  "language_info": {
   "codemirror_mode": {
    "name": "ipython",
    "version": 3
   },
   "file_extension": ".py",
   "mimetype": "text/x-python",
   "name": "python",
   "nbconvert_exporter": "python",
   "pygments_lexer": "ipython3",
   "version": "3.9.7"
  }
 },
 "nbformat": 4,
 "nbformat_minor": 5
}
